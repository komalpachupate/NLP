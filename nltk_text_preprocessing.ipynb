{
 "cells": [
  {
   "cell_type": "code",
   "execution_count": 1,
   "id": "c9d889e6",
   "metadata": {},
   "outputs": [],
   "source": [
    "import nltk\n",
    "import nltk.corpus\n",
    "from nltk.tokenize import word_tokenize, sent_tokenize"
   ]
  },
  {
   "cell_type": "code",
   "execution_count": 2,
   "id": "84830ca4",
   "metadata": {},
   "outputs": [
    {
     "name": "stdout",
     "output_type": "stream",
     "text": [
      "Backgammon is one of the oldest known board games.\n",
      "Its history can be traced back nearly 5,000 years to archeological discoveries in the Middle East.\n",
      "It is a two player game where each player has fifteen checkers which move between twenty-four points according to the roll of two dice.\n"
     ]
    }
   ],
   "source": [
    "#sentence tokenize\n",
    "text = \"Backgammon is one of the oldest known board games. Its history can be traced back nearly 5,000 years to archeological discoveries in the Middle East. It is a two player game where each player has fifteen checkers which move between twenty-four points according to the roll of two dice.\"\n",
    "sentences = nltk.sent_tokenize(text)\n",
    "\n",
    "for sentence in sentences:\n",
    "    print(sentence)"
   ]
  },
  {
   "cell_type": "code",
   "execution_count": 3,
   "id": "d589e65a",
   "metadata": {},
   "outputs": [
    {
     "name": "stdout",
     "output_type": "stream",
     "text": [
      "Backgammon\n",
      "is\n",
      "one\n",
      "of\n",
      "the\n",
      "oldest\n",
      "known\n",
      "board\n",
      "games\n",
      ".\n",
      "Its\n",
      "history\n",
      "can\n",
      "be\n",
      "traced\n",
      "back\n",
      "nearly\n",
      "5,000\n",
      "years\n",
      "to\n",
      "archeological\n",
      "discoveries\n",
      "in\n",
      "the\n",
      "Middle\n",
      "East\n",
      ".\n",
      "It\n",
      "is\n",
      "a\n",
      "two\n",
      "player\n",
      "game\n",
      "where\n",
      "each\n",
      "player\n",
      "has\n",
      "fifteen\n",
      "checkers\n",
      "which\n",
      "move\n",
      "between\n",
      "twenty-four\n",
      "points\n",
      "according\n",
      "to\n",
      "the\n",
      "roll\n",
      "of\n",
      "two\n",
      "dice\n",
      ".\n"
     ]
    }
   ],
   "source": [
    "#word tokenize\n",
    "words = nltk.word_tokenize(text)\n",
    "for word in words:\n",
    "    print(word)"
   ]
  },
  {
   "cell_type": "code",
   "execution_count": 4,
   "id": "a69b1115",
   "metadata": {},
   "outputs": [
    {
     "data": {
      "text/plain": [
       "FreqDist({'the': 3, '.': 3, 'is': 2, 'of': 2, 'to': 2, 'two': 2, 'player': 2, 'Backgammon': 1, 'one': 1, 'oldest': 1, ...})"
      ]
     },
     "execution_count": 4,
     "metadata": {},
     "output_type": "execute_result"
    }
   ],
   "source": [
    "#frequency of token\n",
    "from nltk.probability import FreqDist\n",
    "fdist = FreqDist()\n",
    "\n",
    "\n",
    "for i in words:\n",
    "    fdist[i] = fdist[i] + 1 \n",
    "fdist"
   ]
  },
  {
   "cell_type": "code",
   "execution_count": 7,
   "id": "c545e863",
   "metadata": {},
   "outputs": [
    {
     "data": {
      "text/plain": [
       "[('the', 3),\n",
       " ('.', 3),\n",
       " ('is', 2),\n",
       " ('of', 2),\n",
       " ('to', 2),\n",
       " ('two', 2),\n",
       " ('player', 2),\n",
       " ('Backgammon', 1),\n",
       " ('one', 1),\n",
       " ('oldest', 1)]"
      ]
     },
     "execution_count": 7,
     "metadata": {},
     "output_type": "execute_result"
    }
   ],
   "source": [
    "#most commonly occured \n",
    "top_10 = fdist.most_common(10)\n",
    "top_10"
   ]
  },
  {
   "cell_type": "code",
   "execution_count": 9,
   "id": "f146dc2e",
   "metadata": {},
   "outputs": [
    {
     "data": {
      "text/plain": [
       "['a',\n",
       " 'set',\n",
       " 'of',\n",
       " 'words',\n",
       " 'that',\n",
       " 'is',\n",
       " 'complete',\n",
       " 'in',\n",
       " 'itself',\n",
       " ',',\n",
       " 'typically',\n",
       " 'containing',\n",
       " 'a',\n",
       " 'subject',\n",
       " 'and',\n",
       " 'predicate',\n",
       " ',',\n",
       " 'conveying',\n",
       " 'a',\n",
       " 'statement',\n",
       " ',',\n",
       " 'question',\n",
       " ',',\n",
       " 'exclamation',\n",
       " ',',\n",
       " 'or',\n",
       " 'command',\n",
       " ',',\n",
       " 'and',\n",
       " 'consisting',\n",
       " 'of',\n",
       " 'a',\n",
       " 'main',\n",
       " 'clause',\n",
       " 'and',\n",
       " 'sometimes',\n",
       " 'one',\n",
       " 'or',\n",
       " 'more',\n",
       " 'subordinate',\n",
       " 'clauses']"
      ]
     },
     "execution_count": 9,
     "metadata": {},
     "output_type": "execute_result"
    }
   ],
   "source": [
    "sent = \"a set of words that is complete in itself, typically containing a subject and predicate, conveying a statement, question, exclamation, or command, and consisting of a main clause and sometimes one or more subordinate clauses\"\n",
    "\n",
    "words = nltk.word_tokenize(sent)\n",
    "words"
   ]
  },
  {
   "cell_type": "code",
   "execution_count": 10,
   "id": "32a3b463",
   "metadata": {},
   "outputs": [
    {
     "data": {
      "text/plain": [
       "[('a', 'set'),\n",
       " ('set', 'of'),\n",
       " ('of', 'words'),\n",
       " ('words', 'that'),\n",
       " ('that', 'is'),\n",
       " ('is', 'complete'),\n",
       " ('complete', 'in'),\n",
       " ('in', 'itself'),\n",
       " ('itself', ','),\n",
       " (',', 'typically'),\n",
       " ('typically', 'containing'),\n",
       " ('containing', 'a'),\n",
       " ('a', 'subject'),\n",
       " ('subject', 'and'),\n",
       " ('and', 'predicate'),\n",
       " ('predicate', ','),\n",
       " (',', 'conveying'),\n",
       " ('conveying', 'a'),\n",
       " ('a', 'statement'),\n",
       " ('statement', ','),\n",
       " (',', 'question'),\n",
       " ('question', ','),\n",
       " (',', 'exclamation'),\n",
       " ('exclamation', ','),\n",
       " (',', 'or'),\n",
       " ('or', 'command'),\n",
       " ('command', ','),\n",
       " (',', 'and'),\n",
       " ('and', 'consisting'),\n",
       " ('consisting', 'of'),\n",
       " ('of', 'a'),\n",
       " ('a', 'main'),\n",
       " ('main', 'clause'),\n",
       " ('clause', 'and'),\n",
       " ('and', 'sometimes'),\n",
       " ('sometimes', 'one'),\n",
       " ('one', 'or'),\n",
       " ('or', 'more'),\n",
       " ('more', 'subordinate'),\n",
       " ('subordinate', 'clauses')]"
      ]
     },
     "execution_count": 10,
     "metadata": {},
     "output_type": "execute_result"
    }
   ],
   "source": [
    "#bigrams\n",
    "list(nltk.bigrams(words))"
   ]
  },
  {
   "cell_type": "code",
   "execution_count": 11,
   "id": "318344c7",
   "metadata": {},
   "outputs": [
    {
     "data": {
      "text/plain": [
       "[('a', 'set', 'of'),\n",
       " ('set', 'of', 'words'),\n",
       " ('of', 'words', 'that'),\n",
       " ('words', 'that', 'is'),\n",
       " ('that', 'is', 'complete'),\n",
       " ('is', 'complete', 'in'),\n",
       " ('complete', 'in', 'itself'),\n",
       " ('in', 'itself', ','),\n",
       " ('itself', ',', 'typically'),\n",
       " (',', 'typically', 'containing'),\n",
       " ('typically', 'containing', 'a'),\n",
       " ('containing', 'a', 'subject'),\n",
       " ('a', 'subject', 'and'),\n",
       " ('subject', 'and', 'predicate'),\n",
       " ('and', 'predicate', ','),\n",
       " ('predicate', ',', 'conveying'),\n",
       " (',', 'conveying', 'a'),\n",
       " ('conveying', 'a', 'statement'),\n",
       " ('a', 'statement', ','),\n",
       " ('statement', ',', 'question'),\n",
       " (',', 'question', ','),\n",
       " ('question', ',', 'exclamation'),\n",
       " (',', 'exclamation', ','),\n",
       " ('exclamation', ',', 'or'),\n",
       " (',', 'or', 'command'),\n",
       " ('or', 'command', ','),\n",
       " ('command', ',', 'and'),\n",
       " (',', 'and', 'consisting'),\n",
       " ('and', 'consisting', 'of'),\n",
       " ('consisting', 'of', 'a'),\n",
       " ('of', 'a', 'main'),\n",
       " ('a', 'main', 'clause'),\n",
       " ('main', 'clause', 'and'),\n",
       " ('clause', 'and', 'sometimes'),\n",
       " ('and', 'sometimes', 'one'),\n",
       " ('sometimes', 'one', 'or'),\n",
       " ('one', 'or', 'more'),\n",
       " ('or', 'more', 'subordinate'),\n",
       " ('more', 'subordinate', 'clauses')]"
      ]
     },
     "execution_count": 11,
     "metadata": {},
     "output_type": "execute_result"
    }
   ],
   "source": [
    "#trigrams\n",
    "list(nltk.trigrams(words))"
   ]
  },
  {
   "cell_type": "code",
   "execution_count": 12,
   "id": "e78f0d4a",
   "metadata": {},
   "outputs": [
    {
     "data": {
      "text/plain": [
       "[('a', 'set', 'of', 'words', 'that'),\n",
       " ('set', 'of', 'words', 'that', 'is'),\n",
       " ('of', 'words', 'that', 'is', 'complete'),\n",
       " ('words', 'that', 'is', 'complete', 'in'),\n",
       " ('that', 'is', 'complete', 'in', 'itself'),\n",
       " ('is', 'complete', 'in', 'itself', ','),\n",
       " ('complete', 'in', 'itself', ',', 'typically'),\n",
       " ('in', 'itself', ',', 'typically', 'containing'),\n",
       " ('itself', ',', 'typically', 'containing', 'a'),\n",
       " (',', 'typically', 'containing', 'a', 'subject'),\n",
       " ('typically', 'containing', 'a', 'subject', 'and'),\n",
       " ('containing', 'a', 'subject', 'and', 'predicate'),\n",
       " ('a', 'subject', 'and', 'predicate', ','),\n",
       " ('subject', 'and', 'predicate', ',', 'conveying'),\n",
       " ('and', 'predicate', ',', 'conveying', 'a'),\n",
       " ('predicate', ',', 'conveying', 'a', 'statement'),\n",
       " (',', 'conveying', 'a', 'statement', ','),\n",
       " ('conveying', 'a', 'statement', ',', 'question'),\n",
       " ('a', 'statement', ',', 'question', ','),\n",
       " ('statement', ',', 'question', ',', 'exclamation'),\n",
       " (',', 'question', ',', 'exclamation', ','),\n",
       " ('question', ',', 'exclamation', ',', 'or'),\n",
       " (',', 'exclamation', ',', 'or', 'command'),\n",
       " ('exclamation', ',', 'or', 'command', ','),\n",
       " (',', 'or', 'command', ',', 'and'),\n",
       " ('or', 'command', ',', 'and', 'consisting'),\n",
       " ('command', ',', 'and', 'consisting', 'of'),\n",
       " (',', 'and', 'consisting', 'of', 'a'),\n",
       " ('and', 'consisting', 'of', 'a', 'main'),\n",
       " ('consisting', 'of', 'a', 'main', 'clause'),\n",
       " ('of', 'a', 'main', 'clause', 'and'),\n",
       " ('a', 'main', 'clause', 'and', 'sometimes'),\n",
       " ('main', 'clause', 'and', 'sometimes', 'one'),\n",
       " ('clause', 'and', 'sometimes', 'one', 'or'),\n",
       " ('and', 'sometimes', 'one', 'or', 'more'),\n",
       " ('sometimes', 'one', 'or', 'more', 'subordinate'),\n",
       " ('one', 'or', 'more', 'subordinate', 'clauses')]"
      ]
     },
     "execution_count": 12,
     "metadata": {},
     "output_type": "execute_result"
    }
   ],
   "source": [
    "#ngram\n",
    "list(nltk.ngrams(words,5))"
   ]
  },
  {
   "cell_type": "code",
   "execution_count": 13,
   "id": "4f599b65",
   "metadata": {},
   "outputs": [
    {
     "data": {
      "text/plain": [
       "(('a', 'set', 'of', 'words', 'that', 'is', 'complete'),\n",
       " ('set', 'of', 'words', 'that', 'is', 'complete', 'in'),\n",
       " ('of', 'words', 'that', 'is', 'complete', 'in', 'itself'),\n",
       " ('words', 'that', 'is', 'complete', 'in', 'itself', ','),\n",
       " ('that', 'is', 'complete', 'in', 'itself', ',', 'typically'),\n",
       " ('is', 'complete', 'in', 'itself', ',', 'typically', 'containing'),\n",
       " ('complete', 'in', 'itself', ',', 'typically', 'containing', 'a'),\n",
       " ('in', 'itself', ',', 'typically', 'containing', 'a', 'subject'),\n",
       " ('itself', ',', 'typically', 'containing', 'a', 'subject', 'and'),\n",
       " (',', 'typically', 'containing', 'a', 'subject', 'and', 'predicate'),\n",
       " ('typically', 'containing', 'a', 'subject', 'and', 'predicate', ','),\n",
       " ('containing', 'a', 'subject', 'and', 'predicate', ',', 'conveying'),\n",
       " ('a', 'subject', 'and', 'predicate', ',', 'conveying', 'a'),\n",
       " ('subject', 'and', 'predicate', ',', 'conveying', 'a', 'statement'),\n",
       " ('and', 'predicate', ',', 'conveying', 'a', 'statement', ','),\n",
       " ('predicate', ',', 'conveying', 'a', 'statement', ',', 'question'),\n",
       " (',', 'conveying', 'a', 'statement', ',', 'question', ','),\n",
       " ('conveying', 'a', 'statement', ',', 'question', ',', 'exclamation'),\n",
       " ('a', 'statement', ',', 'question', ',', 'exclamation', ','),\n",
       " ('statement', ',', 'question', ',', 'exclamation', ',', 'or'),\n",
       " (',', 'question', ',', 'exclamation', ',', 'or', 'command'),\n",
       " ('question', ',', 'exclamation', ',', 'or', 'command', ','),\n",
       " (',', 'exclamation', ',', 'or', 'command', ',', 'and'),\n",
       " ('exclamation', ',', 'or', 'command', ',', 'and', 'consisting'),\n",
       " (',', 'or', 'command', ',', 'and', 'consisting', 'of'),\n",
       " ('or', 'command', ',', 'and', 'consisting', 'of', 'a'),\n",
       " ('command', ',', 'and', 'consisting', 'of', 'a', 'main'),\n",
       " (',', 'and', 'consisting', 'of', 'a', 'main', 'clause'),\n",
       " ('and', 'consisting', 'of', 'a', 'main', 'clause', 'and'),\n",
       " ('consisting', 'of', 'a', 'main', 'clause', 'and', 'sometimes'),\n",
       " ('of', 'a', 'main', 'clause', 'and', 'sometimes', 'one'),\n",
       " ('a', 'main', 'clause', 'and', 'sometimes', 'one', 'or'),\n",
       " ('main', 'clause', 'and', 'sometimes', 'one', 'or', 'more'),\n",
       " ('clause', 'and', 'sometimes', 'one', 'or', 'more', 'subordinate'),\n",
       " ('and', 'sometimes', 'one', 'or', 'more', 'subordinate', 'clauses'))"
      ]
     },
     "execution_count": 13,
     "metadata": {},
     "output_type": "execute_result"
    }
   ],
   "source": [
    "tuple(nltk.ngrams(words,7))"
   ]
  },
  {
   "cell_type": "code",
   "execution_count": 17,
   "id": "d0230392",
   "metadata": {},
   "outputs": [
    {
     "data": {
      "text/plain": [
       "('buy', 'educt', 'sometim')"
      ]
     },
     "execution_count": 17,
     "metadata": {},
     "output_type": "execute_result"
    }
   ],
   "source": [
    "#stemming \n",
    "from nltk.stem import PorterStemmer\n",
    "stm = PorterStemmer()\n",
    "\n",
    "stm.stem('buying'),stm.stem('eductional'),stm.stem('sometimes')"
   ]
  },
  {
   "cell_type": "code",
   "execution_count": 25,
   "id": "06f4c780",
   "metadata": {},
   "outputs": [
    {
     "data": {
      "text/plain": [
       "('goose', 'cactus')"
      ]
     },
     "execution_count": 25,
     "metadata": {},
     "output_type": "execute_result"
    }
   ],
   "source": [
    "#lemmitization\n",
    "from nltk.stem import wordnet\n",
    "from nltk.stem import WordNetLemmatizer\n",
    "\n",
    "lemmatizer = WordNetLemmatizer()\n",
    "\n",
    "lemmatizer.lemmatize('geese'),lemmatizer.lemmatize('cacti')"
   ]
  },
  {
   "cell_type": "code",
   "execution_count": 8,
   "id": "1e89a427",
   "metadata": {},
   "outputs": [
    {
     "name": "stdout",
     "output_type": "stream",
     "text": [
      "Enter sentence: my name is komal\n",
      "[('my', 'PRP$')]\n",
      "[('name', 'NN')]\n",
      "[('is', 'VBZ')]\n",
      "[('komal', 'NN')]\n"
     ]
    }
   ],
   "source": [
    "#pos tag\n",
    "sent = input('Enter sentence: ')\n",
    "sent_tok = nltk.word_tokenize(sent)\n",
    "\n",
    "for i in sent_tok:\n",
    "    print(nltk.pos_tag([i]))"
   ]
  },
  {
   "cell_type": "code",
   "execution_count": 9,
   "id": "0cdbd5a0",
   "metadata": {},
   "outputs": [
    {
     "name": "stdout",
     "output_type": "stream",
     "text": [
      "[('John', 'NNP'), ('lives', 'VBZ'), ('in', 'IN'), ('New', 'NNP'), ('York', 'NNP')]\n",
      "(S (PERSON John/NNP) lives/VBZ in/IN (GPE New/NNP York/NNP))\n"
     ]
    }
   ],
   "source": [
    "#name entity recognition\n",
    "from nltk import ne_chunk\n",
    "\n",
    "sent1 = 'John lives in New York'\n",
    "sent1_tok = nltk.word_tokenize(sent1)\n",
    "sent1_pos = nltk.pos_tag(sent1_tok)\n",
    "print(sent1_pos)\n",
    "\n",
    "sent1_ner = ne_chunk(sent1_pos)\n",
    "print(sent1_ner)"
   ]
  },
  {
   "cell_type": "code",
   "execution_count": null,
   "id": "9d082a1c",
   "metadata": {},
   "outputs": [],
   "source": []
  }
 ],
 "metadata": {
  "kernelspec": {
   "display_name": "Python 3",
   "language": "python",
   "name": "python3"
  },
  "language_info": {
   "codemirror_mode": {
    "name": "ipython",
    "version": 3
   },
   "file_extension": ".py",
   "mimetype": "text/x-python",
   "name": "python",
   "nbconvert_exporter": "python",
   "pygments_lexer": "ipython3",
   "version": "3.9.4"
  }
 },
 "nbformat": 4,
 "nbformat_minor": 5
}
