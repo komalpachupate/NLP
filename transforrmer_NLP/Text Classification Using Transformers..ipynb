{
 "cells": [
  {
   "cell_type": "raw",
   "metadata": {},
   "source": [
    "NLP’s Transformer is a new architecture that aims to solve tasks sequence-to-sequence while easily handling long-distance dependencies. Computing the input and output representations without using sequence-aligned RNNs or convolutions and it relies entirely on self-attention\n",
    "\n",
    "https://blog.knoldus.com/what-are-transformers-in-nlp-and-its-advantages/#:~:text=NLP's%20Transformer%20is%20a%20new,relies%20entirely%20on%20self%2Dattention.\n",
    "\n",
    "https://huggingface.co/course/chapter1/4?fw=pt"
   ]
  },
  {
   "cell_type": "markdown",
   "metadata": {},
   "source": [
    "# This was followed by the introduction of several influential models, including:\n",
    "June 2018: GPT, the first pretrained Transformer model, used for fine-tuning on various NLP tasks and obtained state-of-the-art results\n",
    "\n",
    "October 2018: BERT, another large pretrained model, this one designed to produce better summaries of sentences (more on this in the next chapter!)\n",
    "\n",
    "February 2019: GPT-2, an improved (and bigger) version of GPT that was not immediately publicly released due to ethical concerns\n",
    "\n",
    "October 2019: DistilBERT, a distilled version of BERT that is 60% faster, 40% lighter in memory, and still retains 97% of BERT’s performance\n",
    "\n",
    "October 2019: BART and T5, two large pretrained models using the same architecture as the original Transformer model (the first to do so)\n",
    "\n",
    "May 2020, GPT-3, an even bigger version of GPT-2 that is able to perform well on a variety of tasks without the need for fine-tuning (called zero-shot learning)"
   ]
  },
  {
   "cell_type": "raw",
   "metadata": {},
   "source": [
    "GPT-like (also called auto-regressive Transformer models)\n",
    "BERT-like (also called auto-encoding Transformer models)\n",
    "BART/T5-like (also called sequence-to-sequence Transformer models)"
   ]
  },
  {
   "cell_type": "markdown",
   "metadata": {},
   "source": [
    "# Text classification using transfomer"
   ]
  },
  {
   "cell_type": "code",
   "execution_count": 2,
   "metadata": {
    "id": "QeBl61qkWGPr"
   },
   "outputs": [],
   "source": [
    "# !pip install transformers"
   ]
  },
  {
   "cell_type": "code",
   "execution_count": 5,
   "metadata": {
    "id": "lnt1ojYlWKKL"
   },
   "outputs": [],
   "source": [
    "from transformers import pipeline\n",
    "\n",
    "classifier = pipeline(\"zero-shot-classification\", model=\"facebook/bart-large-mnli\", device = 0)\n",
    "#https://huggingface.co/models"
   ]
  },
  {
   "cell_type": "code",
   "execution_count": 6,
   "metadata": {
    "id": "n_vPgdqnWh9h"
   },
   "outputs": [],
   "source": [
    "sequence = \"Many stores are have a lack of inventory due to supply shortages\"\n",
    "labels = [\"energy\", \"retail\", \"politics\", \"economy\"]"
   ]
  },
  {
   "cell_type": "code",
   "execution_count": 7,
   "metadata": {
    "colab": {
     "base_uri": "https://localhost:8080/"
    },
    "id": "fMTwKkDFXN0w",
    "outputId": "74045811-2b0d-4b00-9438-3d9eb1a423d2"
   },
   "outputs": [
    {
     "data": {
      "text/plain": [
       "{'sequence': 'Many stores are have a lack of inventory due to supply shortages',\n",
       " 'labels': ['retail', 'economy', 'energy', 'politics'],\n",
       " 'scores': [0.8051833510398865,\n",
       "  0.14998775720596313,\n",
       "  0.03164863586425781,\n",
       "  0.013180266134440899]}"
      ]
     },
     "execution_count": 7,
     "metadata": {},
     "output_type": "execute_result"
    }
   ],
   "source": [
    "classifier(sequence, labels)"
   ]
  },
  {
   "cell_type": "code",
   "execution_count": 8,
   "metadata": {
    "colab": {
     "base_uri": "https://localhost:8080/"
    },
    "id": "GYxTcoOAXRSX",
    "outputId": "b93279e5-1afd-4ecd-8c77-d17975f94d81"
   },
   "outputs": [
    {
     "data": {
      "text/plain": [
       "[{'sequence': 'An increase in travel demand is one of the causes of an oil price increase',\n",
       "  'labels': ['energy', 'economy', 'retail', 'politics'],\n",
       "  'scores': [0.9332441687583923,\n",
       "   0.04136708378791809,\n",
       "   0.014958749525249004,\n",
       "   0.010430028662085533]},\n",
       " {'sequence': 'As expected, polls show that the party in power will lose seats in Congress during the midterm elections.',\n",
       "  'labels': ['politics', 'economy', 'retail', 'energy'],\n",
       "  'scores': [0.9175485372543335,\n",
       "   0.039845362305641174,\n",
       "   0.02190743386745453,\n",
       "   0.02069861814379692]},\n",
       " {'sequence': 'The party in power may lose seats in the next election due to inflation and recession concerns',\n",
       "  'labels': ['economy', 'politics', 'energy', 'retail'],\n",
       "  'scores': [0.5547062754631042,\n",
       "   0.43135273456573486,\n",
       "   0.008113222196698189,\n",
       "   0.005827777087688446]}]"
      ]
     },
     "execution_count": 8,
     "metadata": {},
     "output_type": "execute_result"
    }
   ],
   "source": [
    "sequences = [\"An increase in travel demand is one of the causes of an oil price increase\",\n",
    "\"As expected, polls show that the party in power will lose seats in Congress during the midterm elections.\",\n",
    "\"The party in power may lose seats in the next election due to inflation and recession concerns\"]\n",
    "classifier(sequences, labels)"
   ]
  },
  {
   "cell_type": "code",
   "execution_count": 10,
   "metadata": {
    "colab": {
     "base_uri": "https://localhost:8080/"
    },
    "id": "LaC1a8iDXYFX",
    "outputId": "eb5176b6-3cec-4288-a514-2fd416c52089"
   },
   "outputs": [
    {
     "data": {
      "text/plain": [
       "[{'sequence': 'An increase in travel demand is one of the causes of an oil price increase',\n",
       "  'labels': ['energy', 'economy', 'retail', 'politics'],\n",
       "  'scores': [0.7724307179450989,\n",
       "   0.0009950794046744704,\n",
       "   0.00019580473599489778,\n",
       "   4.688703847932629e-05]},\n",
       " {'sequence': 'As expected, polls show that the party in power will lose seats in Congress during the midterm elections.',\n",
       "  'labels': ['politics', 'economy', 'energy', 'retail'],\n",
       "  'scores': [0.9895074963569641,\n",
       "   0.4433147609233856,\n",
       "   0.20555660128593445,\n",
       "   0.08531258255243301]},\n",
       " {'sequence': 'The party in power may lose seats in the next election due to inflation and recession concerns',\n",
       "  'labels': ['politics', 'economy', 'energy', 'retail'],\n",
       "  'scores': [0.9844667315483093,\n",
       "   0.9779922366142273,\n",
       "   0.05363397300243378,\n",
       "   0.018095433712005615]}]"
      ]
     },
     "execution_count": 10,
     "metadata": {},
     "output_type": "execute_result"
    }
   ],
   "source": [
    "classifier(sequences, labels, multi_label=True)"
   ]
  },
  {
   "cell_type": "code",
   "execution_count": null,
   "metadata": {
    "id": "B85-QG5aXsA2"
   },
   "outputs": [],
   "source": []
  }
 ],
 "metadata": {
  "accelerator": "GPU",
  "colab": {
   "provenance": []
  },
  "gpuClass": "standard",
  "kernelspec": {
   "display_name": "Python 3",
   "language": "python",
   "name": "python3"
  },
  "language_info": {
   "codemirror_mode": {
    "name": "ipython",
    "version": 3
   },
   "file_extension": ".py",
   "mimetype": "text/x-python",
   "name": "python",
   "nbconvert_exporter": "python",
   "pygments_lexer": "ipython3",
   "version": "3.8.5"
  }
 },
 "nbformat": 4,
 "nbformat_minor": 1
}
